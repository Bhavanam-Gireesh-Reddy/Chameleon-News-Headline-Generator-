{
 "cells": [
  {
   "cell_type": "code",
   "execution_count": 1,
   "id": "334cc570-df35-4d43-99e9-1a6b8ee0189e",
   "metadata": {},
   "outputs": [
    {
     "name": "stderr",
     "output_type": "stream",
     "text": [
      "C:\\Users\\hp\\anaconda\\envs\\Chameleon\\lib\\site-packages\\requests\\__init__.py:86: RequestsDependencyWarning: Unable to find acceptable character detection dependency (chardet or charset_normalizer).\n",
      "  warnings.warn(\n",
      "USER_AGENT environment variable not set, consider setting it to identify your requests.\n"
     ]
    }
   ],
   "source": [
    "import os\n",
    "from dotenv import load_dotenv\n",
    "from pydantic import BaseModel, Field\n",
    "from langchain.output_parsers import PydanticOutputParser\n",
    "from langchain_core.prompts import ChatPromptTemplate\n",
    "from langchain_groq import ChatGroq\n",
    "from langchain_community.document_loaders import WebBaseLoader\n",
    "from langchain_text_splitters import RecursiveCharacterTextSplitter\n",
    "from langchain.chains.summarize import load_summarize_chain\n",
    "from langchain.agents import tool, AgentExecutor, create_react_agent\n",
    "from langchain import hub"
   ]
  },
  {
   "cell_type": "code",
   "execution_count": 2,
   "id": "8c273b00-b11c-4e25-ae6e-dcf609211185",
   "metadata": {},
   "outputs": [],
   "source": [
    "# --- 1. Configuration and LLM Initialization ---\n",
    "load_dotenv()\n",
    "llm = ChatGroq(model=\"meta-llama/llama-4-scout-17b-16e-instruct\", temperature=0.7)"
   ]
  },
  {
   "cell_type": "code",
   "execution_count": 3,
   "id": "fa63b947-759e-4a8f-9df8-324165a21085",
   "metadata": {},
   "outputs": [],
   "source": [
    "# --- 2. Define the Structured Output ---\n",
    "class HeadlineSet(BaseModel):\n",
    "    \"\"\"Data model for a set of generated headlines.\"\"\"\n",
    "    factual_headline: str = Field(description=\"A strictly factual, professional headline for the article.\")\n",
    "    creative_headline: str = Field(description=\"A creative, engaging, and slightly sensational headline for the article.\")\n",
    "    question_headline: str = Field(description=\"A headline phrased as an intriguing question to provoke curiosity.\")\n",
    "    target_audience: str = Field(description=\"The primary audience this article is likely for (e.g., 'Tech Enthusiasts', 'Political Analysts').\")"
   ]
  },
  {
   "cell_type": "code",
   "execution_count": 4,
   "id": "67677c90-4205-4fd4-acdd-5eadb07d98c6",
   "metadata": {},
   "outputs": [],
   "source": [
    "# --- 3. Define Tools for the Agent ---\n",
    "\n",
    "@tool\n",
    "def get_article_summary(url: str) -> str:\n",
    "    \"\"\"\n",
    "    Loads content from a URL, splits it into chunks, and returns a concise summary.\n",
    "    Use this tool to understand the contents of a news article or webpage.\n",
    "    \"\"\"\n",
    "    print(f\"\\n➡️ [Tool Running: get_article_summary] Loading content from {url}...\")\n",
    "    loader = WebBaseLoader(url)\n",
    "    docs = loader.load()\n",
    "\n",
    "    print(\"➡️ [Tool Running: get_article_summary] Splitting and summarizing...\")\n",
    "    text_splitter = RecursiveCharacterTextSplitter(chunk_size=4000, chunk_overlap=200)\n",
    "    split_docs = text_splitter.split_documents(docs)\n",
    "    summary_chain = load_summarize_chain(llm, chain_type=\"map_reduce\")\n",
    "    article_summary = summary_chain.invoke(split_docs)\n",
    "    print(\"➡️ [Tool Running: get_article_summary] Summary complete.\")\n",
    "    return article_summary['output_text']"
   ]
  },
  {
   "cell_type": "code",
   "execution_count": 5,
   "id": "e4e47ed5-6674-4a40-adab-bda4c2977eb0",
   "metadata": {},
   "outputs": [],
   "source": [
    "@tool\n",
    "def generate_headlines(summary: str) -> dict:\n",
    "    \"\"\"\n",
    "    Takes an article summary and generates a set of factual, creative, and question-based headlines.\n",
    "    Use this tool after you have summarized an article.\n",
    "    \"\"\"\n",
    "    print(\"➡️ [Tool Running: generate_headlines] Generating headlines...\")\n",
    "    pydantic_parser = PydanticOutputParser(pydantic_object=HeadlineSet)\n",
    "    master_prompt = ChatPromptTemplate.from_template(\n",
    "        \"\"\"\n",
    "        You are an expert copywriter. Analyze the following news article summary and generate a set of headlines based on the formatting instructions.\n",
    "\n",
    "        Formatting Instructions:\n",
    "        {format_instructions}\n",
    "\n",
    "        Article Summary:\n",
    "        ---\n",
    "        {summary}\n",
    "        ---\n",
    "        \"\"\"\n",
    "    )\n",
    "    structured_chain = master_prompt | llm | pydantic_parser\n",
    "    headlines = structured_chain.invoke({\n",
    "        \"summary\": summary,\n",
    "        \"format_instructions\": pydantic_parser.get_format_instructions()\n",
    "    })\n",
    "    print(\"➡️ [Tool Running: generate_headlines] Headlines generated.\")\n",
    "    # Return the dictionary representation for clean output\n",
    "    return headlines.model_dump()"
   ]
  },
  {
   "cell_type": "code",
   "execution_count": 6,
   "id": "f9c772e2-7f53-4073-8563-4a615fbc31c6",
   "metadata": {},
   "outputs": [
    {
     "name": "stderr",
     "output_type": "stream",
     "text": [
      "C:\\Users\\hp\\anaconda\\envs\\Chameleon\\lib\\site-packages\\langsmith\\client.py:272: LangSmithMissingAPIKeyWarning: API key must be provided when using hosted LangSmith API\n",
      "  warnings.warn(\n"
     ]
    },
    {
     "name": "stdout",
     "output_type": "stream",
     "text": [
      "🤖 Agent is ready. Ask me to generate headlines for a URL.\n",
      "   Example: Get headlines for https://www.your-news-article-url.com\n",
      "   Type 'exit' to quit.\n",
      "\n"
     ]
    },
    {
     "name": "stdin",
     "output_type": "stream",
     "text": [
      "You:  https://edition.cnn.com/2025/07/21/politics/trump-netanyahu-israel-gaza-syria\n"
     ]
    },
    {
     "name": "stdout",
     "output_type": "stream",
     "text": [
      "\n",
      "\n",
      "\u001b[1m> Entering new AgentExecutor chain...\u001b[0m\n",
      "\u001b[32;1m\u001b[1;3mTo answer the question related to the given URL, I first need to understand the content of the article. The URL appears to be a news article from CNN about a political situation involving Trump, Netanyahu, Israel, Gaza, and Syria.\n",
      "\n",
      "Thought: I should start by getting a summary of the article to understand its content.\n",
      "Action: get_article_summary\n",
      "Action Input: https://edition.cnn.com/2025/07/21/politics/trump-netanyahu-israel-gaza-syria\u001b[0m\n",
      "➡️ [Tool Running: get_article_summary] Loading content from https://edition.cnn.com/2025/07/21/politics/trump-netanyahu-israel-gaza-syria...\n",
      "➡️ [Tool Running: get_article_summary] Splitting and summarizing...\n"
     ]
    },
    {
     "name": "stderr",
     "output_type": "stream",
     "text": [
      "None of PyTorch, TensorFlow >= 2.0, or Flax have been found. Models won't be available and only tokenizers, configuration and file/data utilities can be used.\n"
     ]
    },
    {
     "name": "stdout",
     "output_type": "stream",
     "text": [
      "➡️ [Tool Running: get_article_summary] Summary complete.\n",
      "\u001b[36;1m\u001b[1;3mThere are no specific news articles to summarize, but rather a collection of navigation menus and sitemaps from CNN's website listing various categories and sections. However, one piece of news was mentioned:\n",
      "\n",
      "The White House is growing increasingly skeptical of Israeli Prime Minister Netanyahu, and President Trump was reportedly \"caught off guard\" by Israel's recent actions in Gaza and Syria, leading to a tense phone call between the two leaders.\u001b[0m\u001b[32;1m\u001b[1;3mThought: The summary provided some information about the tensions between the White House (President Trump) and Israeli Prime Minister Netanyahu, particularly regarding actions in Gaza and Syria. However, the summary seems quite brief and doesn't offer a comprehensive view of the article. \n",
      "\n",
      "Given that I have a brief summary, I can now proceed to generate headlines based on this information.\n",
      "\n",
      "Action: generate_headlines\n",
      "Action Input: The White House is growing increasingly skeptical of Israeli Prime Minister Netanyahu, and President Trump was reportedly \"caught off guard\" by Israel's recent actions in Gaza and Syria, leading to a tense phone call between the two leaders.\u001b[0m➡️ [Tool Running: generate_headlines] Generating headlines...\n",
      "➡️ [Tool Running: generate_headlines] Headlines generated.\n",
      "\u001b[33;1m\u001b[1;3m{'factual_headline': 'US and Israel Relations Strained Amid Gaza and Syria Developments', 'creative_headline': \"Trump-Netanyahu Relationship Hits a Snag: What's Behind the Growing Rift?\", 'question_headline': 'Can the US-Israel Alliance Withstand the Strain?', 'target_audience': 'International Relations Analysts, Middle East Observers'}\u001b[0m\u001b[32;1m\u001b[1;3mThought: I now have a set of headlines based on the brief summary I obtained. These headlines provide different angles on the situation, including a factual report, a more creative or attention-grabbing version, and a question-based headline that invites further inquiry.\n",
      "\n",
      "Thought: I now know the final answer\n",
      "Final Answer: \n",
      "\n",
      "- Factual Headline: US and Israel Relations Strained Amid Gaza and Syria Developments\n",
      "- Creative Headline: Trump-Netanyahu Relationship Hits a Snag: What's Behind the Growing Rift?\n",
      "- Question Headline: Can the US-Israel Alliance Withstand the Strain?\u001b[0m\n",
      "\n",
      "\u001b[1m> Finished chain.\u001b[0m\n",
      "\n",
      "✅ Agent's Final Answer:\n",
      "- Factual Headline: US and Israel Relations Strained Amid Gaza and Syria Developments\n",
      "- Creative Headline: Trump-Netanyahu Relationship Hits a Snag: What's Behind the Growing Rift?\n",
      "- Question Headline: Can the US-Israel Alliance Withstand the Strain?\n",
      "--------------------------------------------------\n"
     ]
    },
    {
     "name": "stdin",
     "output_type": "stream",
     "text": [
      "You:  https://timesofindia.indiatimes.com/india/people-who-are-saying-shashi-tharoor-hits-back-at-kerala-congress-snub-responds-to-no-longer-one-of-us-remark/articleshow/122832291.cms\n"
     ]
    },
    {
     "name": "stdout",
     "output_type": "stream",
     "text": [
      "\n",
      "\n",
      "\u001b[1m> Entering new AgentExecutor chain...\u001b[0m\n",
      "\u001b[32;1m\u001b[1;3mThought: I need to understand the content of the article at the given URL to answer questions about it. The best action is to get a summary of the article.\n",
      "\n",
      "Action: get_article_summary\n",
      "Action Input: https://timesofindia.indiatimes.com/india/people-who-are-saying-shashi-tharoor-hits-back-at-kerala-congress-snub-responds-to-no-longer-one-of-us-remark/articleshow/122832291.cms\u001b[0m\n",
      "➡️ [Tool Running: get_article_summary] Loading content from https://timesofindia.indiatimes.com/india/people-who-are-saying-shashi-tharoor-hits-back-at-kerala-congress-snub-responds-to-no-longer-one-of-us-remark/articleshow/122832291.cms...\n",
      "➡️ [Tool Running: get_article_summary] Splitting and summarizing...\n",
      "➡️ [Tool Running: get_article_summary] Summary complete.\n",
      "\u001b[36;1m\u001b[1;3mThere are four separate summaries provided, each covering different topics. Here is a concise summary of each:\n",
      "\n",
      "**Summary 1: Shashi Tharoor Controversy**\n",
      "\n",
      "Shashi Tharoor, a Congress MP, faced backlash from Kerala Congress leaders for praising PM Modi and deviating from the party line. Tharoor responded by emphasizing national interest over party loyalty.\n",
      "\n",
      "**Summary 2: Shashi Tharoor's Statement**\n",
      "\n",
      "Tharoor defended his remarks, stating that national interest takes precedence over party loyalty, saying \"the nation comes first.\" The Kerala Congress reportedly responded by saying he was \"no longer one of us.\"\n",
      "\n",
      "**Summary 3: News Aggregator Feed**\n",
      "\n",
      "A news aggregator feed covered various topics, including technology, business, sports, entertainment, health, and India-specific news. The feed appeared to be a compilation of news articles, trending topics, and popular categories.\n",
      "\n",
      "**Summary 4: International and Entertainment News**\n",
      "\n",
      "A news feed highlighted several international and entertainment news stories, including Dubai's unified free zone passport, Vishnu Manchu's film release, Microsoft's purchase of human waste, Google's security concerns, and K-Pop's first deaf group making history.\u001b[0m\u001b[32;1m\u001b[1;3mThought: I have obtained a summary of the article. Now, I need to generate headlines based on this summary to provide a comprehensive understanding of the content.\n",
      "\n",
      "Action: generate_headlines\n",
      "Action Input: \n",
      "```\n",
      "Shashi Tharoor, a Congress MP, faced backlash from Kerala Congress leaders for praising PM Modi and deviating from the party line. Tharoor responded by emphasizing national interest over party loyalty.\n",
      "\n",
      "Tharoor defended his remarks, stating that national interest takes precedence over party loyalty, saying \"the nation comes first.\" The Kerala Congress reportedly responded by saying he was \"no longer one of us.\"\n",
      "```\u001b[0m➡️ [Tool Running: generate_headlines] Generating headlines...\n",
      "➡️ [Tool Running: generate_headlines] Headlines generated.\n",
      "\u001b[33;1m\u001b[1;3m{'factual_headline': 'Shashi Tharoor Faces Backlash from Kerala Congress Leaders for Praising PM Modi', 'creative_headline': 'The Tharoor Divide: When National Interest Trumps Party Loyalty', 'question_headline': 'Can Shashi Tharoor Reconcile National Pride with Party Politics?', 'target_audience': 'Indian Politics Enthusiasts'}\u001b[0m\u001b[32;1m\u001b[1;3mThought: I now have a clear understanding of the article's content and have generated relevant headlines. I can now provide a final answer to the original question.\n",
      "\n",
      "Final Answer: The article discusses Shashi Tharoor, a Congress MP, facing backlash from Kerala Congress leaders for praising PM Modi and deviating from the party line. Tharoor emphasized national interest over party loyalty, leading to the Kerala Congress stating he was \"no longer one of us.\"\u001b[0m\n",
      "\n",
      "\u001b[1m> Finished chain.\u001b[0m\n",
      "\n",
      "✅ Agent's Final Answer:\n",
      "The article discusses Shashi Tharoor, a Congress MP, facing backlash from Kerala Congress leaders for praising PM Modi and deviating from the party line. Tharoor emphasized national interest over party loyalty, leading to the Kerala Congress stating he was \"no longer one of us.\"\n",
      "--------------------------------------------------\n"
     ]
    },
    {
     "name": "stdin",
     "output_type": "stream",
     "text": [
      "You:  https://www.hindustantimes.com/india-news/air-india-completes-boeing-inspections-after-deadly-ahmedabad-crash-101753171132341.html\n"
     ]
    },
    {
     "name": "stdout",
     "output_type": "stream",
     "text": [
      "\n",
      "\n",
      "\u001b[1m> Entering new AgentExecutor chain...\u001b[0m\n",
      "\u001b[32;1m\u001b[1;3mThought: I need to understand the content of the article at the given URL to answer any questions related to it. The best course of action is to summarize the article.\n",
      "\n",
      "Action: get_article_summary\n",
      "Action Input: https://www.hindustantimes.com/india-news/air-india-completes-boeing-inspections-after-deadly-ahmedabad-crash-101753171132341.html\u001b[0m\n",
      "➡️ [Tool Running: get_article_summary] Loading content from https://www.hindustantimes.com/india-news/air-india-completes-boeing-inspections-after-deadly-ahmedabad-crash-101753171132341.html...\n",
      "➡️ [Tool Running: get_article_summary] Splitting and summarizing...\n",
      "➡️ [Tool Running: get_article_summary] Summary complete.\n",
      "\u001b[36;1m\u001b[1;3mThe article discusses Air India completing Boeing inspections following a fatal crash in Ahmedabad, but access is restricted.\u001b[0m\u001b[32;1m\u001b[1;3mIt seems like the observation got cut off. Let's continue with what we have.\n",
      "\n",
      "Thought: Since the observation was incomplete, let's assume we didn't get the full summary. However, based on the title and typically what such articles entail, it seems the article is about Air India completing inspections on Boeing aircraft after a deadly crash in Ahmedabad. \n",
      "\n",
      "To proceed, let's try to get a more detailed summary or headlines.\n",
      "\n",
      "Action: get_article_summary\n",
      "Action Input: https://www.hindustantimes.com/india-news/air-india-completes-boeing-inspections-after-deadly-ahmedabad-crash-101753171132341.html\u001b[0m\n",
      "➡️ [Tool Running: get_article_summary] Loading content from https://www.hindustantimes.com/india-news/air-india-completes-boeing-inspections-after-deadly-ahmedabad-crash-101753171132341.html...\n",
      "➡️ [Tool Running: get_article_summary] Splitting and summarizing...\n",
      "➡️ [Tool Running: get_article_summary] Summary complete.\n",
      "\u001b[36;1m\u001b[1;3mYou cannot access a Hindustan Times article about an Air India crash due to server permission restrictions.\u001b[0m\u001b[32;1m\u001b[1;3mIt seems like direct access to the article content is restricted. Given this limitation, let's try a different approach by looking for publicly available information or related news articles that might provide insights into the incident.\n",
      "\n",
      "Thought: Since we can't access the specific article, let's try to generate some general headlines based on what we know about the topic. This might give us some clues about the content.\n",
      "\n",
      "Action: generate_headlines\n",
      "Action Input: \"Air India completes Boeing inspections after deadly Ahmedabad crash\"\u001b[0m➡️ [Tool Running: generate_headlines] Generating headlines...\n",
      "➡️ [Tool Running: generate_headlines] Headlines generated.\n",
      "\u001b[33;1m\u001b[1;3m{'factual_headline': 'Air India Completes Boeing Inspections Following Ahmedabad Crash', 'creative_headline': 'Air India Grounds Fears with Swift Boeing Inspections After Deadly Crash', 'question_headline': 'Can Air India Bounce Back After Deadly Crash: What the Boeing Inspections Reveal?', 'target_audience': 'Aviation Industry Professionals'}\u001b[0m\u001b[32;1m\u001b[1;3mThought: The generated headlines provide a general idea of what the article might contain. It seems that Air India conducted inspections on Boeing aircraft following a deadly crash in Ahmedabad. \n",
      "\n",
      "Given that we can't access the article directly and these headlines, let's infer that the article likely discusses the completion of these inspections and possibly the implications or findings from the crash investigation.\n",
      "\n",
      "Thought: I now know the final answer\n",
      "\n",
      "Final Answer: The article likely discusses Air India completing inspections on its Boeing aircraft after a fatal crash occurred in Ahmedabad, and it may delve into the implications of these inspections and the status of the crash investigation.\u001b[0m\n",
      "\n",
      "\u001b[1m> Finished chain.\u001b[0m\n",
      "\n",
      "✅ Agent's Final Answer:\n",
      "The article likely discusses Air India completing inspections on its Boeing aircraft after a fatal crash occurred in Ahmedabad, and it may delve into the implications of these inspections and the status of the crash investigation.\n",
      "--------------------------------------------------\n"
     ]
    },
    {
     "name": "stdin",
     "output_type": "stream",
     "text": [
      "You:  exit\n"
     ]
    },
    {
     "name": "stdout",
     "output_type": "stream",
     "text": [
      "🤖 Goodbye!\n"
     ]
    }
   ],
   "source": [
    "# --- 4. Main Execution Block ---\n",
    "if __name__ == \"__main__\":\n",
    "    if not os.getenv(\"GROQ_API_KEY\"):\n",
    "        print(\"❌ ERROR: GROQ_API_KEY not found! Please ensure it is in your .env file.\")\n",
    "    else:\n",
    "        # Define the list of tools the agent can use\n",
    "        tools = [get_article_summary, generate_headlines]\n",
    "\n",
    "        # Get the prompt template for the agent\n",
    "        prompt = hub.pull(\"hwchase17/react\")\n",
    "\n",
    "        # Create the agent by combining the LLM, tools, and prompt\n",
    "        agent = create_react_agent(llm, tools, prompt)\n",
    "\n",
    "        # Create the Agent Executor, which runs the agent's logic\n",
    "        agent_executor = AgentExecutor(agent=agent, tools=tools, verbose=True)\n",
    "\n",
    "        print(\"🤖 Agent is ready. Ask me to generate headlines for a URL.\")\n",
    "        print(\"   Example: Get headlines for https://www.your-news-article-url.com\")\n",
    "        print(\"   Type 'exit' to quit.\\n\")\n",
    "\n",
    "        # Start a loop to chat with the agent\n",
    "        while True:\n",
    "            user_input = input(\"You: \")\n",
    "            if user_input.lower() == 'exit':\n",
    "                print(\"🤖 Goodbye!\")\n",
    "                break\n",
    "            \n",
    "            try:\n",
    "                # Invoke the agent executor with the user's input\n",
    "                result = agent_executor.invoke({\"input\": user_input})\n",
    "                \n",
    "                # Print the agent's final answer\n",
    "                print(\"\\n✅ Agent's Final Answer:\")\n",
    "                print(result['output'])\n",
    "                print(\"-\" * 50)\n",
    "            \n",
    "            except Exception as e:\n",
    "                print(f\"\\n❌ An error occurred: {e}\")"
   ]
  }
 ],
 "metadata": {
  "kernelspec": {
   "display_name": "Python 3 (ipykernel)",
   "language": "python",
   "name": "python3"
  },
  "language_info": {
   "codemirror_mode": {
    "name": "ipython",
    "version": 3
   },
   "file_extension": ".py",
   "mimetype": "text/x-python",
   "name": "python",
   "nbconvert_exporter": "python",
   "pygments_lexer": "ipython3",
   "version": "3.10.18"
  }
 },
 "nbformat": 4,
 "nbformat_minor": 5
}
